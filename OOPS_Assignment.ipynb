{
  "nbformat": 4,
  "nbformat_minor": 0,
  "metadata": {
    "colab": {
      "provenance": []
    },
    "kernelspec": {
      "name": "python3",
      "display_name": "Python 3"
    },
    "language_info": {
      "name": "python"
    }
  },
  "cells": [
    {
      "cell_type": "markdown",
      "source": [
        "Ques1) What is Object-Oriented Programming (OOP)?"
      ],
      "metadata": {
        "id": "h2wbXMkXlm-U"
      }
    },
    {
      "cell_type": "markdown",
      "source": [
        "- Object-Oriented Programming (OOP) is a programming paradigm that organizes software design around objects, which are instances of classes. A class serves as a blueprint that defines attributes (data) and methods (functions) that operate on the data. OOP promotes modularity, reusability, and scalability by using four key principles: encapsulation, which restricts direct access to object data to ensure security and maintainability; abstraction, which hides complex details and exposes only essential functionalities; inheritance, which allows new classes to derive properties and behaviors from existing ones, reducing code duplication; and polymorphism, which enables a single interface to represent different data types or methods. This approach makes code more structured, easier to debug, and adaptable to real-world applications. OOP is widely used in modern programming languages like Python, Java, C++, and C# to build efficient and scalable software systems."
      ],
      "metadata": {
        "id": "SAfJhrNUl0a8"
      }
    },
    {
      "cell_type": "markdown",
      "source": [
        "Ques2) What is a class in OOP?"
      ],
      "metadata": {
        "id": "1P_zRLOomFR6"
      }
    },
    {
      "cell_type": "markdown",
      "source": [
        "- In Object-Oriented Programming (OOP), a class is a blueprint or template for creating objects. It defines the attributes (variables) and behaviors (methods or functions) that the objects of that class will have. A class acts as a structured way to model real-world entities by encapsulating data and functions into a single unit."
      ],
      "metadata": {
        "id": "fVv_x9KEmIA4"
      }
    },
    {
      "cell_type": "markdown",
      "source": [
        "Ques3)  What is an object in OOP?"
      ],
      "metadata": {
        "id": "k-D0aAkSmSAz"
      }
    },
    {
      "cell_type": "markdown",
      "source": [
        "- In Object-Oriented Programming (OOP), an object is an instance of a class that represents a specific entity with its own unique values for attributes and the ability to perform defined behaviors. While a class serves as a blueprint, an object is the actual implementation of that blueprint, occupying memory and allowing interaction with data and methods."
      ],
      "metadata": {
        "id": "WYBNU9WJmVoA"
      }
    },
    {
      "cell_type": "markdown",
      "source": [
        "Ques4) What is the difference between abstraction and encapsulation?"
      ],
      "metadata": {
        "id": "Ts7t1PUYmejy"
      }
    },
    {
      "cell_type": "markdown",
      "source": [
        "- Abstraction and encapsulation are two fundamental concepts in Object-Oriented Programming (OOP), but they serve different purposes. Abstraction is the process of hiding the complex implementation details and exposing only the essential features to the user. It helps reduce complexity by allowing users to interact with an object without knowing its internal workings. For example, when using a car, we only need to know how to start and drive it without understanding the internal engine mechanics. This is achieved in programming through abstract classes and interfaces. Encapsulation, on the other hand, is the practice of bundling data (attributes) and methods (functions) within a class while restricting direct access to some of the object's details. It protects the integrity of data by allowing access only through controlled mechanisms like getters and setters."
      ],
      "metadata": {
        "id": "-ESW5ag-miS_"
      }
    },
    {
      "cell_type": "markdown",
      "source": [
        "Ques5) What are dunder methods in Python?"
      ],
      "metadata": {
        "id": "OR4yXo_TmqBR"
      }
    },
    {
      "cell_type": "markdown",
      "source": [
        "- Dunder methods (short for double underscore methods) in Python are special methods that have double underscores (__) at the beginning and end of their names, such as __init__, __str__, and __len__. These methods, also known as magic methods, are used to define the behavior of objects and enable built-in operations like initialization, string representation, and arithmetic operations. For example, the __init__ method is a constructor that initializes an object when it is created."
      ],
      "metadata": {
        "id": "hCa84D3dmzqJ"
      }
    },
    {
      "cell_type": "markdown",
      "source": [
        "Ques6)  Explain the concept of inheritance in OOPS?"
      ],
      "metadata": {
        "id": "PV2Z5qmem1XM"
      }
    },
    {
      "cell_type": "markdown",
      "source": [
        "- Inheritance is a fundamental concept in Object-Oriented Programming (OOP) that allows a new class (called the child class or subclass) to acquire the properties and behaviors of an existing class (called the parent class or superclass). This promotes code reusability and hierarchical organization, as the child class can inherit attributes and methods from the parent while also adding its own unique features or modifying inherited behaviors."
      ],
      "metadata": {
        "id": "stlN7Olqm5yS"
      }
    },
    {
      "cell_type": "markdown",
      "source": [
        "Ques7) What is polymorphism in OOP?"
      ],
      "metadata": {
        "id": "148B6oZWnFPn"
      }
    },
    {
      "cell_type": "markdown",
      "source": [
        "- Polymorphism is a key concept in Object-Oriented Programming (OOP) that allows objects of different classes to be treated as instances of the same class through a common interface. It enables a single function, method, or operator to work in multiple ways, depending on the context. Polymorphism improves code flexibility and reusability by allowing different classes to implement the same method in their own unique way. There are two main types of polymorphism: method overloading, where multiple methods in the same class have the same name but different parameters (though Python does not support this explicitly), and method overriding, where a child class provides a specific implementation of a method inherited from the parent class."
      ],
      "metadata": {
        "id": "noZ223wqnI9Q"
      }
    },
    {
      "cell_type": "markdown",
      "source": [
        "Ques8) How is encapsulation achieved in Python?"
      ],
      "metadata": {
        "id": "hxBNReqcnSxP"
      }
    },
    {
      "cell_type": "markdown",
      "source": [
        "- Encapsulation in Python is achieved by restricting direct access to the attributes and methods of a class and allowing controlled access through getter and setter methods. This helps protect data integrity, prevent unintended modifications, and enhance security. In Python, encapsulation is implemented using access modifiers: public, protected, and private."
      ],
      "metadata": {
        "id": "TkDhhgn4nWzb"
      }
    },
    {
      "cell_type": "markdown",
      "source": [
        "Ques9)  What is a constructor in Python?"
      ],
      "metadata": {
        "id": "z7t6u-YXngew"
      }
    },
    {
      "cell_type": "markdown",
      "source": [
        "- A constructor in Python is a special method used to initialize objects when they are created from a class. It is defined using the __init__ method and is automatically called when a new instance of a class is instantiated. The constructor allows the programmer to assign initial values to an object’s attributes, ensuring that every object starts with a well-defined state. It typically takes self as its first parameter, which represents the instance being created, followed by additional parameters to set attribute values."
      ],
      "metadata": {
        "id": "EN0-jmT3nkhn"
      }
    },
    {
      "cell_type": "markdown",
      "source": [
        "Ques10)  What are class and static methods in Python?"
      ],
      "metadata": {
        "id": "hQXYhNNFnsR-"
      }
    },
    {
      "cell_type": "markdown",
      "source": [
        "- In Python, class methods and static methods are special types of methods used within a class, but they behave differently from regular instance methods. A class method is defined using the @classmethod decorator and takes cls (the class itself) as its first parameter instead of self (the instance). This allows class methods to modify class-level attributes and work with the class itself rather than individual instances. They are useful for factory methods or modifying shared data among all instances. A static method, defined using the @staticmethod decorator, does not take self or cls as a parameter and acts like a regular function inside a class. It does not modify class or instance attributes but is used for utility functions that logically belong to the class. Both methods enhance code organization and reusability, making the class more versatile."
      ],
      "metadata": {
        "id": "A5ni-uCcnwpH"
      }
    },
    {
      "cell_type": "markdown",
      "source": [
        "Ques11) What is method overloading in Python?"
      ],
      "metadata": {
        "id": "YsN2sIO2n7TL"
      }
    },
    {
      "cell_type": "markdown",
      "source": [
        "- Method overloading in Python refers to defining multiple methods with the same name but different numbers or types of parameters. However, unlike languages such as Java or C++, Python does not support true method overloading because it allows only the latest defined method with the same name to be retained, overriding previous definitions. Instead, Python achieves similar functionality using default arguments or the *args and **kwargs mechanisms to handle different numbers of parameters dynamically. This allows a single method to accept varying numbers of arguments and behave accordingly. For example, a calculate_area() method can handle both one argument (for a square) and two arguments (for a rectangle) using default parameters. This approach enhances flexibility and code reusability, making Python functions more adaptable."
      ],
      "metadata": {
        "id": "Cf4Sc9pmn-y2"
      }
    },
    {
      "cell_type": "markdown",
      "source": [
        "Ques12) What is method overriding in OOP?"
      ],
      "metadata": {
        "id": "GkoLyt74oFAD"
      }
    },
    {
      "cell_type": "markdown",
      "source": [
        "- Method overriding in Object-Oriented Programming (OOP) is a feature that allows a subclass to provide a specific implementation of a method that is already defined in its parent class. This enables the child class to modify or extend the behavior of the inherited method while keeping the same method name and parameters. Overriding is particularly useful in achieving polymorphism, where different classes can provide their own versions of a common method, making the code more dynamic and adaptable. In Python, method overriding is achieved by defining a method in the child class with the same name and parameters as in the parent class. The super() function can be used to call the parent class’s method inside the overridden method. This technique is commonly used in scenarios like customizing behavior in GUI frameworks, handling different types of objects in game development, or refining functions in data processing."
      ],
      "metadata": {
        "id": "YoCFOBm8oI0Y"
      }
    },
    {
      "cell_type": "markdown",
      "source": [
        "Ques13) What is a property decorator in Python?"
      ],
      "metadata": {
        "id": "GA_WHhBGoQrN"
      }
    },
    {
      "cell_type": "markdown",
      "source": [
        "- The property decorator (@property) in Python is a built-in feature used to define getter methods in a class, allowing an attribute to be accessed like a regular variable while still controlling its retrieval. It is part of Python's encapsulation mechanism, enabling data protection by restricting direct access to private attributes. The @property decorator is often used alongside setter (@attribute_name.setter) and deleter (@attribute_name.deleter) decorators to modify or remove a property safely. This approach ensures that any logic, such as validation or formatting, is applied when retrieving or modifying an attribute."
      ],
      "metadata": {
        "id": "V8pQRW91oUxX"
      }
    },
    {
      "cell_type": "markdown",
      "source": [
        "Ques14) Why is polymorphism important in OOP?"
      ],
      "metadata": {
        "id": "Nic-PGN5ofIl"
      }
    },
    {
      "cell_type": "markdown",
      "source": [
        "- Polymorphism is important in Object-Oriented Programming (OOP) because it enhances code flexibility, reusability, and scalability by allowing a single interface to be used with different data types or class objects. It enables different classes to implement the same method in their own unique way, promoting dynamic behavior without modifying existing code. This is particularly useful in large software systems, where functions or methods can work with multiple object types seamlessly."
      ],
      "metadata": {
        "id": "WA3fDnSoovaL"
      }
    },
    {
      "cell_type": "markdown",
      "source": [
        "Ques15) What is an abstract class in Python?"
      ],
      "metadata": {
        "id": "S9t8JeAso5sP"
      }
    },
    {
      "cell_type": "markdown",
      "source": [
        "- An abstract class in Python is a class that cannot be instantiated and serves as a blueprint for other classes. It is used to define common methods and attributes that must be implemented by subclasses. Abstract classes are created using the ABC (Abstract Base Class) module from the abc library and contain at least one abstract method, which is defined using the @abstractmethod decorator. These methods provide a structure but have no implementation in the abstract class itself; instead, subclasses must override them. Abstract classes are useful in enforcing consistent method signatures across multiple subclasses, promoting code organization and reusability."
      ],
      "metadata": {
        "id": "gThX1R8No-bv"
      }
    },
    {
      "cell_type": "markdown",
      "source": [
        "Ques16) What are the advantages of OOP?"
      ],
      "metadata": {
        "id": "GpCVvWZypFtW"
      }
    },
    {
      "cell_type": "markdown",
      "source": [
        "- Object-Oriented Programming (OOP) offers several advantages that make software development more efficient, scalable, and maintainable. One of the key benefits is code reusability, achieved through inheritance, which allows new classes to reuse existing code without duplication. Encapsulation helps in data security by restricting direct access to class attributes and ensuring controlled modifications. Polymorphism enhances flexibility by allowing different objects to be treated uniformly, enabling more dynamic and extensible code. Abstraction simplifies complex systems by hiding implementation details and exposing only the essential functionalities. Additionally, OOP improves code organization and modularity, making it easier to manage and debug large projects. It also aligns well with real-world modeling, as objects represent real-world entities, making the development process more intuitive. OOP is widely used in software engineering, game development, and GUI applications due to its ability to create scalable and maintainable programs."
      ],
      "metadata": {
        "id": "wy_IwNJPpJIc"
      }
    },
    {
      "cell_type": "markdown",
      "source": [
        "Ques17) What is the difference between a class variable and an instance variable?"
      ],
      "metadata": {
        "id": "yxYWk8q9pSBx"
      }
    },
    {
      "cell_type": "markdown",
      "source": [
        "- In Python, class variables and instance variables are two types of attributes that store data within a class, but they differ in scope and behavior. A class variable is shared across all instances of a class and is defined at the class level, outside any instance methods. This means that changes to a class variable affect all instances of the class. In contrast, an instance variable is unique to each object and is defined within the constructor (__init__ method) using self. Each instance maintains its own copy of instance variables, allowing objects to store different data independently."
      ],
      "metadata": {
        "id": "K6-5OUucpVwO"
      }
    },
    {
      "cell_type": "markdown",
      "source": [
        "Ques18) What is multiple inheritance in Python?"
      ],
      "metadata": {
        "id": "FwKhDvf_pgi-"
      }
    },
    {
      "cell_type": "markdown",
      "source": [
        "- Multiple inheritance in Python is a feature that allows a class to inherit attributes and methods from more than one parent class. This enables a child class to combine functionalities from multiple base classes, promoting code reusability and flexibility. It is implemented by specifying multiple parent classes in the class definition, like class Child(Parent1, Parent2):. While multiple inheritance is powerful, it can also lead to complexity, especially when dealing with the diamond problem, where a method is inherited from multiple ancestors, causing ambiguity in method resolution. Python handles this using the Method Resolution Order (MRO) and the C3 linearization algorithm, which determines the sequence in which parent classes are searched for attributes and methods. Multiple inheritance is useful in scenarios where an object needs to exhibit behaviors from different sources, such as a HybridCar class inheriting from both ElectricCar and GasCar. However, it should be used carefully to avoid conflicts and maintain code clarity."
      ],
      "metadata": {
        "id": "lpKdEwZCpjwT"
      }
    },
    {
      "cell_type": "markdown",
      "source": [
        "Ques19) Explain the purpose of ‘’__str__’ and ‘__repr__’ ‘ methods in Python?"
      ],
      "metadata": {
        "id": "mdfjxB6zp4OB"
      }
    },
    {
      "cell_type": "markdown",
      "source": [
        "- In Python, the __str__ and __repr__ methods are dunder (double underscore) methods used to define how an object is represented as a string. The __str__ method is intended for a user-friendly, readable representation of an object, making it suitable for display purposes, such as when printing an object. It is called when str(object) or print(object) is used. On the other hand, the __repr__ method provides an unambiguous, developer-friendly representation of an object, ideally returning a string that can be used to recreate the object when passed to eval(). It is called when repr(object) is used or when an object is displayed in an interactive shell. If __str__ is not defined, Python falls back to __repr__."
      ],
      "metadata": {
        "id": "VDAvJ91dp-EX"
      }
    },
    {
      "cell_type": "markdown",
      "source": [
        "Ques20) What is the significance of the ‘super()’ function in Python?"
      ],
      "metadata": {
        "id": "re64miR1qGRx"
      }
    },
    {
      "cell_type": "markdown",
      "source": [
        "- The super() function in Python is used to call methods from a parent class within a child class, ensuring proper method resolution and avoiding redundant code. It is particularly useful in inheritance, allowing a subclass to access and extend the functionality of the superclass without explicitly naming it. This is commonly seen in constructors (__init__ methods) when initializing inherited attributes. For example, in a Child class that inherits from Parent, calling super().__init__() ensures that the parent class's constructor is executed before adding child-specific properties. super() is also crucial in multiple inheritance, as it follows the Method Resolution Order (MRO) to determine the correct sequence in which parent classes are searched for methods. This prevents issues like duplicate method execution and helps maintain cleaner, more maintainable code."
      ],
      "metadata": {
        "id": "Sz0MK3XNqJVu"
      }
    },
    {
      "cell_type": "markdown",
      "source": [
        "Ques21) What is the significance of the __del__ method in Python?"
      ],
      "metadata": {
        "id": "jC7C59hsqPeQ"
      }
    },
    {
      "cell_type": "markdown",
      "source": [
        "- The __del__ method in Python is a special destructor method that is automatically called when an object is about to be destroyed or garbage collected. It allows developers to define cleanup operations, such as closing files, releasing memory, or disconnecting from databases, before the object is removed from memory. The method is defined as def __del__(self): inside a class and is executed when the reference count of an object drops to zero. However, relying too much on __del__ can be risky because Python’s garbage collector may not immediately delete objects, especially in cases of circular references. Instead, using context managers (with statement) or explicit resource management is often preferred. While __del__ can be useful for managing resources, it should be used carefully to avoid unexpected behaviors."
      ],
      "metadata": {
        "id": "TH6BnzUCqS2y"
      }
    },
    {
      "cell_type": "markdown",
      "source": [
        "Ques22)  What is the difference between @staticmethod and @classmethod in Python?"
      ],
      "metadata": {
        "id": "LnEgho3SqdA1"
      }
    },
    {
      "cell_type": "markdown",
      "source": [
        "- In Python, @staticmethod and @classmethod are decorators used to define special types of methods within a class, but they differ in how they interact with class and instance attributes. A static method (defined with @staticmethod) does not take any reference to the class (cls) or instance (self) as its first parameter, meaning it cannot access or modify class or instance attributes. It behaves like a regular function but is logically grouped within a class for better organization. In contrast, a class method (defined with @classmethod) takes cls as its first parameter, allowing it to modify class-level attributes and work with the class itself rather than a specific instance. Static methods are useful for utility functions related to the class, while class methods are often used for factory methods or modifying shared data across instances. Understanding their differences helps in designing more structured and maintainable object-oriented programs."
      ],
      "metadata": {
        "id": "eheQviOuqg0u"
      }
    },
    {
      "cell_type": "markdown",
      "source": [
        "Ques23) How does polymorphism work in Python with inheritance?"
      ],
      "metadata": {
        "id": "6RcUWebVqpTL"
      }
    },
    {
      "cell_type": "markdown",
      "source": [
        "- In Python, polymorphism works with inheritance by allowing child classes to define their own versions of methods that exist in the parent class, enabling different behaviors while maintaining a common interface. This is primarily achieved through method overriding, where a subclass provides a specific implementation of an inherited method. For example, if a parent class Animal has a method make_sound(), subclasses like Dog and Cat can override this method with their own implementations, such as returning \"Bark\" for a dog and \"Meow\" for a cat. This allows objects of different subclasses to be treated uniformly while executing their unique behaviors, making the code more flexible and scalable. Python’s dynamic typing ensures that polymorphism works seamlessly, as methods are called based on the actual object's type at runtime rather than the reference type. This approach enhances code reusability and supports the Open-Closed Principle, allowing new subclasses to be added without modifying existing code."
      ],
      "metadata": {
        "id": "uu24ODpzqtls"
      }
    },
    {
      "cell_type": "markdown",
      "source": [
        "Ques24) What is method chaining in Python OOP?"
      ],
      "metadata": {
        "id": "N1bwX6Ndq0_t"
      }
    },
    {
      "cell_type": "markdown",
      "source": [
        "- Method chaining in Python OOP is a technique where multiple methods are called on the same object in a single line, improving code readability and conciseness. This is achieved by designing methods to return the self object (return self), allowing subsequent method calls to be linked together. Method chaining is commonly used in builder patterns, data manipulation, and fluent interfaces, where modifications to an object can be applied step by step."
      ],
      "metadata": {
        "id": "H2rsxKyqq4G_"
      }
    },
    {
      "cell_type": "markdown",
      "source": [
        "Ques25) What is the purpose of the __call__ method in Python?"
      ],
      "metadata": {
        "id": "OMLCPfvLq9_N"
      }
    },
    {
      "cell_type": "markdown",
      "source": [
        "- The __call__ method in Python is a special dunder (double underscore) method that allows an instance of a class to be called like a function. When a class defines the __call__ method, its objects can be invoked using parentheses (), just like regular functions. This feature is useful in scenarios such as creating callable objects, implementing decorators, or designing function wrappers. For example, in a Multiplier class, defining __call__(self, x) allows an instance to be used as multiply_by_2(5), returning 10. This makes objects behave like functions while still maintaining object-oriented advantages, such as storing state. Using __call__ can lead to more flexible, reusable, and expressive code, particularly in function-based design patterns."
      ],
      "metadata": {
        "id": "Q-3KtLVUrB_D"
      }
    },
    {
      "cell_type": "markdown",
      "source": [
        "######Practical Questions"
      ],
      "metadata": {
        "id": "c7j5rd5orHVy"
      }
    },
    {
      "cell_type": "markdown",
      "source": [
        "Ques1)  Create a parent class Animal with a method speak() that prints a generic message. Create a child class Dog\n",
        "that overrides the speak() method to print \"Bark!\"?"
      ],
      "metadata": {
        "id": "RSQAvUNArN7t"
      }
    },
    {
      "cell_type": "code",
      "source": [
        "class Animal:\n",
        "    def speak(self):\n",
        "        print(\"This animal makes a sound.\")\n",
        "\n",
        "class Dog(Animal):\n",
        "    def speak(self):\n",
        "        print(\"Bark!\")\n",
        "\n",
        "\n",
        "a = Animal()\n",
        "a.speak()\n",
        "\n",
        "d = Dog()\n",
        "d.speak()"
      ],
      "metadata": {
        "id": "EmT6pVMcrYFl"
      },
      "execution_count": null,
      "outputs": []
    },
    {
      "cell_type": "markdown",
      "source": [
        "Ques2)  Write a program to create an abstract class Shape with a method area(). Derive classes Circle and Rectangle\n",
        "from it and implement the area() method in both?"
      ],
      "metadata": {
        "id": "WA_N0BG9tX6S"
      }
    },
    {
      "cell_type": "code",
      "source": [
        "from abc import ABC, abstractmethod\n",
        "import math\n",
        "\n",
        "\n",
        "class Shape(ABC):\n",
        "    @abstractmethod\n",
        "    def area(self):\n",
        "        pass\n",
        "\n",
        "class Circle(Shape):\n",
        "    def __init__(self, radius):\n",
        "        self.radius = radius\n",
        "\n",
        "    def area(self):\n",
        "        return math.pi * self.radius ** 2\n",
        "\n",
        "\n",
        "class Rectangle(Shape):\n",
        "    def __init__(self, width, height):\n",
        "        self.width = width\n",
        "        self.height = height\n",
        "\n",
        "    def area(self):\n",
        "        return self.width * self.height\n",
        "\n",
        "\n",
        "circle = Circle(5)\n",
        "print(\"Circle Area:\", circle.area())\n",
        "\n",
        "rectangle = Rectangle(4, 6)\n",
        "print(\"Rectangle Area:\", rectangle.area())"
      ],
      "metadata": {
        "id": "epaeK4vytdeZ"
      },
      "execution_count": null,
      "outputs": []
    },
    {
      "cell_type": "markdown",
      "source": [
        "Ques3) Implement a multi-level inheritance scenario where a class Vehicle has an attribute type. Derive a class Car\n",
        "and further derive a class ElectricCar that adds a battery attribute?"
      ],
      "metadata": {
        "id": "io62eeU6vAEW"
      }
    },
    {
      "cell_type": "code",
      "source": [
        "class Vehicle:\n",
        "    def __init__(self, vehicle_type):\n",
        "        self.vehicle_type = vehicle_type\n",
        "\n",
        "\n",
        "class Car(Vehicle):\n",
        "    def __init__(self, vehicle_type, brand):\n",
        "        super().__init__(vehicle_type)\n",
        "        self.brand = brand\n",
        "\n",
        "\n",
        "class ElectricCar(Car):\n",
        "    def __init__(self, vehicle_type, brand, battery_capacity):\n",
        "        super().__init__(vehicle_type, brand)\n",
        "        self.battery_capacity = battery_capacity\n",
        "\n",
        "    def display_info(self):\n",
        "        print(f\"Vehicle Type: {self.vehicle_type}\")\n",
        "        print(f\"Brand: {self.brand}\")\n",
        "        print(f\"Battery Capacity: {self.battery_capacity} kWh\")\n",
        "\n",
        "\n",
        "tesla = ElectricCar(\"Car\", \"Tesla Model 3\", 75)\n",
        "tesla.display_info()"
      ],
      "metadata": {
        "id": "BgTsRaIAxfhe"
      },
      "execution_count": null,
      "outputs": []
    },
    {
      "cell_type": "markdown",
      "source": [
        "Ques4) Demonstrate polymorphism by creating a base class Bird with a method fly(). Create two derived classes\n",
        "Sparrow and Penguin that override the fly() method?"
      ],
      "metadata": {
        "id": "wr_WYQfEu_-U"
      }
    },
    {
      "cell_type": "code",
      "source": [
        "\n",
        "class Bird:\n",
        "    def fly(self):\n",
        "        print(\"Some birds can fly.\")\n",
        "\n",
        "\n",
        "class Sparrow(Bird):\n",
        "    def fly(self):\n",
        "        print(\"The Sparrow is flying high.\")\n",
        "\n",
        "\n",
        "class Penguin(Bird):\n",
        "    def fly(self):\n",
        "        print(\"The Penguin cannot fly, but it swims well.\")\n",
        "\n",
        "\n",
        "def bird_flight(bird):\n",
        "    bird.fly()\n",
        "\n",
        "\n",
        "sparrow = Sparrow()\n",
        "penguin = Penguin()\n",
        "\n",
        "bird_flight(sparrow)\n",
        "bird_flight(penguin)"
      ],
      "metadata": {
        "id": "JDA69wwIxmPp"
      },
      "execution_count": null,
      "outputs": []
    },
    {
      "cell_type": "markdown",
      "source": [
        "Ques5) Write a program to demonstrate encapsulation by creating a class BankAccount with private attributes\n",
        "balance and methods to deposit, withdraw, and check balance?"
      ],
      "metadata": {
        "id": "QIo7eWGQyxGJ"
      }
    },
    {
      "cell_type": "code",
      "source": [
        "class BankAccount:\n",
        "    def __init__(self, initial_balance=0):\n",
        "        self.__balance = initial_balance\n",
        "\n",
        "    def deposit(self, amount):\n",
        "        if amount > 0:\n",
        "            self.__balance += amount\n",
        "            print(f\"Deposited: ${amount}\")\n",
        "        else:\n",
        "            print(\"Deposit amount must be positive.\")\n",
        "\n",
        "    def withdraw(self, amount):\n",
        "        if 0 < amount <= self.__balance:\n",
        "            self.__balance -= amount\n",
        "            print(f\"Withdrawn: ${amount}\")\n",
        "        else:\n",
        "            print(\"Insufficient balance or invalid amount.\")\n",
        "\n",
        "    def check_balance(self):\n",
        "        print(f\"Current balance: ${self.__balance}\")\n",
        "\n",
        "\n",
        "account = BankAccount(100)\n",
        "account.deposit(50)\n",
        "account.withdraw(30)\n",
        "account.check_balance()"
      ],
      "metadata": {
        "id": "oBe6Zf4ay2TR"
      },
      "execution_count": null,
      "outputs": []
    },
    {
      "cell_type": "markdown",
      "source": [
        "Ques6) Demonstrate runtime polymorphism using a method play() in a base class Instrument. Derive classes Guitar\n",
        "and Piano that implement their own version of play()?"
      ],
      "metadata": {
        "id": "5e6X9nhC06is"
      }
    },
    {
      "cell_type": "code",
      "source": [
        "\n",
        "class Instrument:\n",
        "    def play(self):\n",
        "        print(\"Playing an instrument.\")\n",
        "\n",
        "\n",
        "class Guitar(Instrument):\n",
        "    def play(self):\n",
        "        print(\"Strumming the Guitar!\")\n",
        "\n",
        "\n",
        "class Piano(Instrument):\n",
        "    def play(self):\n",
        "        print(\"Playing the Piano keys!\")\n",
        "\n",
        "\n",
        "def play_instrument(instrument):\n",
        "    instrument.play()\n",
        "\n",
        "\n",
        "guitar = Guitar()\n",
        "piano = Piano()\n",
        "\n",
        "play_instrument(guitar)\n",
        "play_instrument(piano)\n"
      ],
      "metadata": {
        "id": "HZsLdUh70-8f"
      },
      "execution_count": null,
      "outputs": []
    },
    {
      "cell_type": "markdown",
      "source": [
        "Ques7)  Create a class MathOperations with a class method add_numbers() to add two numbers and a static\n",
        "method subtract_numbers() to subtract two numbers?"
      ],
      "metadata": {
        "id": "_CENBOaU1Uq6"
      }
    },
    {
      "cell_type": "code",
      "source": [
        "class MathOperations:\n",
        "    @classmethod\n",
        "    def add_numbers(cls, x, y):\n",
        "        return x + y\n",
        "\n",
        "    @staticmethod\n",
        "    def subtract_numbers(x, y):\n",
        "        return x - y\n",
        "\n",
        "\n",
        "print(MathOperations.add_numbers(10, 5))\n",
        "print(MathOperations.subtract_numbers(10, 5))"
      ],
      "metadata": {
        "id": "KzSDlrdB1Z8i"
      },
      "execution_count": null,
      "outputs": []
    },
    {
      "cell_type": "markdown",
      "source": [
        "Ques8)  Implement a class Person with a class method to count the total number of persons created?"
      ],
      "metadata": {
        "id": "jQjF5vsl2e7G"
      }
    },
    {
      "cell_type": "code",
      "source": [
        "class Person:\n",
        "    count = 0\n",
        "\n",
        "    def __init__(self, name):\n",
        "        self.name = name\n",
        "        Person.count += 1\n",
        "\n",
        "    @classmethod\n",
        "    def total_persons(cls):\n",
        "        return f\"Total persons created: {cls.count}\"\n",
        "\n",
        "\n",
        "p1 = Person(\"Alice\")\n",
        "p2 = Person(\"Bob\")\n",
        "p3 = Person(\"Charlie\")\n",
        "\n",
        "print(Person.total_persons())"
      ],
      "metadata": {
        "id": "1CGO3s7I2lCj"
      },
      "execution_count": null,
      "outputs": []
    },
    {
      "cell_type": "markdown",
      "source": [
        "Ques9) Write a class Fraction with attributes numerator and denominator. Override the str method to display the\n",
        "fraction as \"numerator/denominator\"?"
      ],
      "metadata": {
        "id": "ukgJMf1o3hqT"
      }
    },
    {
      "cell_type": "code",
      "source": [
        "class Fraction:\n",
        "    def __init__(self, numerator, denominator):\n",
        "        self.numerator = numerator\n",
        "        self.denominator = denominator\n",
        "\n",
        "    def __str__(self):\n",
        "        return f\"{self.numerator}/{self.denominator}\""
      ],
      "metadata": {
        "id": "2sc3emsD3nKA"
      },
      "execution_count": null,
      "outputs": []
    },
    {
      "cell_type": "markdown",
      "source": [
        "Ques10)  Demonstrate operator overloading by creating a class Vector and overriding the add method to add two\n",
        "vectors?"
      ],
      "metadata": {
        "id": "xjitbO_O4wzs"
      }
    },
    {
      "cell_type": "code",
      "source": [
        "class Vector:\n",
        "    def __init__(self, x, y):\n",
        "        self.x = x\n",
        "        self.y = y\n",
        "\n",
        "    def __add__(self, other):\n",
        "        if isinstance(other, Vector):\n",
        "            return Vector(self.x + other.x, self.y + other.y)\n",
        "        return NotImplemented\n",
        "\n",
        "    def __str__(self):\n",
        "        return f\"({self.x}, {self.y})\""
      ],
      "metadata": {
        "id": "Z59oEs2744CM"
      },
      "execution_count": null,
      "outputs": []
    },
    {
      "cell_type": "markdown",
      "source": [
        "Ques11) Create a class Person with attributes name and age. Add a method greet() that prints \"Hello, my name is\n",
        "{name} and I am {age} years old.\""
      ],
      "metadata": {
        "id": "xcjWRKx152_U"
      }
    },
    {
      "cell_type": "code",
      "source": [
        "class Person():\n",
        "  def __init__(self,name,age):\n",
        "    self.name = name\n",
        "    self.age = age\n",
        "  def greet(self):\n",
        "    print(f\"Hello, my name is {self.name} and I am {self.age} years old.\")\n",
        "\n",
        "P1 = Person(\"Rohit\",24)\n",
        "P1.greet()"
      ],
      "metadata": {
        "id": "xaFbwxUp58zi"
      },
      "execution_count": null,
      "outputs": []
    },
    {
      "cell_type": "markdown",
      "source": [
        "Ques12) . Implement a class Student with attributes name and grades. Create a method average_grade() to compute\n",
        "the average of the grades?"
      ],
      "metadata": {
        "id": "N8T9kaRD7HY0"
      }
    },
    {
      "cell_type": "code",
      "source": [
        "class Student():\n",
        "  def __init__(self,name,grades):\n",
        "      self.name = name\n",
        "      self.grades = grades\n",
        "  def average_grades(self):\n",
        "    return sum(self.grades)/len(self.grades)\n",
        "\n",
        "S1 = Student(\"Rohit\",[10,20,30,40])\n",
        "S1.average_grades()"
      ],
      "metadata": {
        "id": "iW8C3iic7Kvj"
      },
      "execution_count": null,
      "outputs": []
    },
    {
      "cell_type": "markdown",
      "source": [
        "Ques13) Create a class Rectangle with methods set_dimensions() to set the dimensions and area() to calculate the\n",
        "area?"
      ],
      "metadata": {
        "id": "DMNZrBIN7yaU"
      }
    },
    {
      "cell_type": "code",
      "source": [
        "class Rectangle:\n",
        "    def __init__(self, length, width):\n",
        "        self.length = length\n",
        "        self.width = width\n",
        "\n",
        "    def set_dimensions(self, length, width):\n",
        "        self.length = length\n",
        "        self.width = width\n",
        "\n",
        "    def area(self):\n",
        "        return self.length * self.width\n",
        "\n",
        "R1 = Rectangle(10, 20)\n",
        "print(\"Initial Area:\", R1.area())\n",
        "\n",
        "R1.set_dimensions(15, 25)\n",
        "print(\"Updated Area:\", R1.area())"
      ],
      "metadata": {
        "id": "VbU1P2ee72mt"
      },
      "execution_count": null,
      "outputs": []
    },
    {
      "cell_type": "markdown",
      "source": [
        "Ques14) Create a class Employee with a method calculate_salary() that computes the salary based on hours worked\n",
        "and hourly rate. Create a derived class Manager that adds a bonus to the salary?"
      ],
      "metadata": {
        "id": "__VmzhVU9MnL"
      }
    },
    {
      "cell_type": "code",
      "source": [
        "class Employee:\n",
        "    def __init__(self, name, hours_worked, hourly_rate):\n",
        "        self.name = name\n",
        "        self.hours_worked = hours_worked\n",
        "        self.hourly_rate = hourly_rate\n",
        "\n",
        "    def calculate_salary(self):\n",
        "        return self.hours_worked * self.hourly_rate\n",
        "\n",
        "\n",
        "class Manager(Employee):\n",
        "    def __init__(self, name, hours_worked, hourly_rate, bonus):\n",
        "        super().__init__(name, hours_worked, hourly_rate)\n",
        "        self.bonus = bonus\n",
        "\n",
        "    def calculate_salary(self):\n",
        "        return super().calculate_salary() + self.bonus\n",
        "\n",
        "\n",
        "employee1 = Employee(\"Alice\", 40, 20)\n",
        "manager1 = Manager(\"Bob\", 40, 30, 500)\n",
        "\n",
        "print(f\"{employee1.name}'s Salary: ${employee1.calculate_salary()}\")\n",
        "print(f\"{manager1.name}'s Salary: ${manager1.calculate_salary()}\")\n"
      ],
      "metadata": {
        "id": "n0kthQ8m9RVS"
      },
      "execution_count": null,
      "outputs": []
    },
    {
      "cell_type": "markdown",
      "source": [
        "Ques15) Create a class Product with attributes name, price, and quantity. Implement a method total_price() that\n",
        "calculates the total price of the product?"
      ],
      "metadata": {
        "id": "Si74D_Z29zqB"
      }
    },
    {
      "cell_type": "code",
      "source": [
        "class Product():\n",
        "  def __init__(self,name,price,quantity):\n",
        "    self.name = name\n",
        "    self.price = price\n",
        "    self.quantity = quantity\n",
        "\n",
        "  def total_price(self):\n",
        "    return self.price*self.quantity\n",
        "\n",
        "P1 = Product(\"Mobile\",10000,2)\n",
        "P1.total_price()"
      ],
      "metadata": {
        "id": "lh_ha4DX-hrL"
      },
      "execution_count": null,
      "outputs": []
    },
    {
      "cell_type": "markdown",
      "source": [
        "Ques16) Create a class Animal with an abstract method sound(). Create two derived classes Cow and Sheep that\n",
        "implement the sound() method?"
      ],
      "metadata": {
        "id": "8uhPaW1A-iX6"
      }
    },
    {
      "cell_type": "code",
      "source": [
        "from abc import ABC, abstractmethod\n",
        "\n",
        "\n",
        "class Animal(ABC):\n",
        "    @abstractmethod\n",
        "    def sound(self):\n",
        "        pass\n",
        "\n",
        "\n",
        "class Cow(Animal):\n",
        "    def sound(self):\n",
        "        return \"Moo!\"\n",
        "\n",
        "\n",
        "class Sheep(Animal):\n",
        "    def sound(self):\n",
        "        return \"Baa!\"\n",
        "\n",
        "\n",
        "cow = Cow()\n",
        "sheep = Sheep()\n",
        "\n",
        "print(f\"Cow sound: {cow.sound()}\")\n",
        "print(f\"Sheep sound: {sheep.sound()}\")"
      ],
      "metadata": {
        "id": "y9W9wDWR-nz4"
      },
      "execution_count": null,
      "outputs": []
    },
    {
      "cell_type": "markdown",
      "source": [
        "Ques17) Create a class Book with attributes title, author, and year_published. Add a method get_book_info() that\n",
        "returns a formatted string with the book's details?"
      ],
      "metadata": {
        "id": "DjotfbyJ_Ett"
      }
    },
    {
      "cell_type": "code",
      "source": [
        "class Book():\n",
        "  def __init__(self,title,author,year_published):\n",
        "    self.title = title\n",
        "    self.author = author\n",
        "    self.year_published = year_published\n",
        "  def get_book_info(self):\n",
        "      return f\"Title: {self.title}\\nAuthor: {self.author}\\nYear Published: {self.year_published}\"\n",
        "\n",
        "B1 = Book(\"The Alchemist\",\"Paulo Coelho\",1988)\n",
        "B1.get_book_info()"
      ],
      "metadata": {
        "id": "J-EqY0nq_JS0"
      },
      "execution_count": null,
      "outputs": []
    },
    {
      "cell_type": "markdown",
      "source": [
        "Ques18) Create a class House with attributes address and price. Create a derived class Mansion that adds an\n",
        "attribute number_of_rooms?"
      ],
      "metadata": {
        "id": "JWHGZLOH_2Ry"
      }
    },
    {
      "cell_type": "code",
      "source": [
        "class House():\n",
        "  def __init__(self,address,price):\n",
        "    self.address = address\n",
        "    self.price = price\n",
        "class Mansion(House):\n",
        "  def __init__(self,address,price,number_of_rooms):\n",
        "    super().__init__(address,price)\n",
        "    self.number_of_rooms = number_of_rooms\n",
        "\n",
        "M1 = Mansion(\"Delhi\",10000000,10)\n",
        "M1.number_of_rooms"
      ],
      "metadata": {
        "id": "WBcVHV7e_5_3"
      },
      "execution_count": null,
      "outputs": []
    }
  ]
}